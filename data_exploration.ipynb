{
 "cells": [
  {
   "cell_type": "code",
   "execution_count": null,
   "metadata": {},
   "outputs": [],
   "source": [
    "import pandas as pd\n",
    "\n",
    "\n",
    "age_gender_df = pd.read_csv(\"./data/alter_geschlecht.csv\", delimiter=',')\n",
    "age_gender_df.head()"
   ]
  },
  {
   "cell_type": "code",
   "execution_count": null,
   "metadata": {},
   "outputs": [],
   "source": [
    "age_gender_df.shape"
   ]
  },
  {
   "cell_type": "code",
   "execution_count": null,
   "metadata": {},
   "outputs": [],
   "source": [
    "interest_df = pd.read_csv(\"./data/interesse.csv\", delimiter=',')\n",
    "interest_df.head()"
   ]
  },
  {
   "cell_type": "code",
   "execution_count": null,
   "metadata": {},
   "outputs": [],
   "source": [
    "interest_df.shape"
   ]
  },
  {
   "cell_type": "code",
   "execution_count": null,
   "metadata": {},
   "outputs": [],
   "source": [
    "rest_df = pd.read_csv(\"./data/rest.csv\", delimiter=';')\n",
    "rest_df.head()"
   ]
  },
  {
   "cell_type": "code",
   "execution_count": null,
   "metadata": {},
   "outputs": [],
   "source": [
    "rest_df.shape"
   ]
  },
  {
   "cell_type": "code",
   "execution_count": null,
   "metadata": {},
   "outputs": [],
   "source": [
    "age_gender_duplicates = age_gender_df[age_gender_df['id'].duplicated()]\n",
    "print(age_gender_duplicates)\n",
    "\n",
    "interest_duplicates = interest_df[interest_df['id'].duplicated()]\n",
    "print(interest_duplicates)\n",
    "\n",
    "rest_duplicates = rest_df[rest_df['id'].duplicated()]\n",
    "print(rest_duplicates)\n",
    "\n",
    "# no duplicate customer entries found"
   ]
  },
  {
   "cell_type": "code",
   "execution_count": null,
   "metadata": {},
   "outputs": [],
   "source": [
    "age_gender_missing_values = age_gender_df.isnull().sum()\n",
    "print(age_gender_missing_values)\n",
    "\n",
    "interest_missing_values = interest_df.isnull().sum()\n",
    "print(interest_missing_values)\n",
    "\n",
    "rest_missing_values = rest_df.isnull().sum()\n",
    "print(rest_missing_values)\n",
    "\n",
    "# There are no missing values in the dataset"
   ]
  },
  {
   "cell_type": "code",
   "execution_count": null,
   "metadata": {},
   "outputs": [],
   "source": [
    "combined_df = pd.merge(age_gender_df, interest_df, on=\"id\", how=\"inner\")\n",
    "combined_df = pd.merge(combined_df, rest_df, on=\"id\", how=\"inner\")\n",
    "print(combined_df.shape)\n",
    "print(combined_df.head(10))"
   ]
  },
  {
   "cell_type": "code",
   "execution_count": null,
   "metadata": {},
   "outputs": [],
   "source": [
    "import matplotlib.pyplot as plt\n",
    "unique_values_age = combined_df[\"Alter\"].value_counts()\n",
    "\n",
    "# Increase the size of the figure\n",
    "plt.figure(figsize=(15, 6))  # Adjust the figure size (width, height)\n",
    "\n",
    "unique_values_age.plot(kind=\"bar\")\n",
    "\n",
    "\n",
    "plt.xlabel('Age')\n",
    "plt.ylabel('Count')\n",
    "plt.title('Count of different customer Ages')\n",
    "\n",
    "# Display the plot\n",
    "plt.show()"
   ]
  },
  {
   "cell_type": "code",
   "execution_count": null,
   "metadata": {},
   "outputs": [],
   "source": [
    "combined_df[\"Alter\"].max()"
   ]
  },
  {
   "cell_type": "code",
   "execution_count": null,
   "metadata": {},
   "outputs": [],
   "source": [
    "\n",
    "unique_values_gender = combined_df[\"Geschlecht\"].value_counts()\n",
    "\n",
    "# Increase the size of the figure\n",
    "plt.figure(figsize=(15, 6))  # Adjust the figure size (width, height)\n",
    "\n",
    "unique_values_gender.plot(kind=\"bar\")\n",
    "\n",
    "\n",
    "plt.xlabel('Gender')\n",
    "plt.ylabel('Count')\n",
    "plt.title('Count of different customer Ages')\n",
    "\n",
    "# Display the plot\n",
    "plt.show()"
   ]
  },
  {
   "cell_type": "code",
   "execution_count": null,
   "metadata": {},
   "outputs": [],
   "source": [
    "import pandas as pd\n",
    "\n",
    "\n",
    "bins = [19, 29, 39, 49, 59, 69, 79, 89]\n",
    "labels = [\"Age 20-29\", \"Age 30-39\", \"Age 40-49\", \"Age 50-59\", \"Age 60-69\", \"Age 70-79\", \"Age 80-89\"]\n",
    "\n",
    "# Create the AgeGroup column\n",
    "combined_df['Altersgruppen'] = pd.cut(combined_df['Alter'], bins=bins, labels=labels)\n",
    "\n",
    "combined_df.head(30)\n",
    "# # One-Hot Encode the AgeGroup column\n",
    "df_one_hot = pd.get_dummies(combined_df['Altersgruppen'], prefix='Altersgruppen')\n",
    "\n",
    "data = pd.concat([combined_df, df_one_hot], axis=1)\n",
    "data.head()"
   ]
  },
  {
   "cell_type": "code",
   "execution_count": null,
   "metadata": {},
   "outputs": [],
   "source": [
    "# Create a count of Age grouped by Gender\n",
    "age_gender_counts = combined_df.groupby(['Geschlecht', 'Altersgruppen']).size().unstack()\n",
    "\n",
    "age_gender_counts.plot(kind='bar', stacked=True)\n",
    "\n",
    "# Add labels and title\n",
    "plt.xlabel('Gender')\n",
    "plt.ylabel('Count')\n",
    "plt.title('Stacked Count of Ages by Gender')\n",
    "\n",
    "# Show the plot\n",
    "plt.tight_layout()\n",
    "plt.show()"
   ]
  },
  {
   "cell_type": "code",
   "execution_count": null,
   "metadata": {},
   "outputs": [],
   "source": [
    "\n",
    "# Create a count of Age grouped by Gender\n",
    "age_gender_counts = combined_df.groupby(['Geschlecht', 'Altersgruppen']).size().unstack()\n",
    "\n",
    "# Plot as a bar chart\n",
    "age_gender_counts.plot(kind='bar')\n",
    "\n",
    "# Add labels and title\n",
    "plt.xlabel('Gender')\n",
    "plt.ylabel('Count')\n",
    "plt.title('Count of Ages by Gender')\n",
    "\n",
    "# Show the plot\n",
    "plt.tight_layout()\n",
    "plt.show()"
   ]
  },
  {
   "cell_type": "code",
   "execution_count": null,
   "metadata": {},
   "outputs": [],
   "source": [
    "combined_df.head(30)"
   ]
  },
  {
   "cell_type": "code",
   "execution_count": null,
   "metadata": {},
   "outputs": [],
   "source": [
    "unique_values_drivers_permit = combined_df[\"Fahrerlaubnis\"].value_counts()\n",
    "unique_values_drivers_permit"
   ]
  },
  {
   "cell_type": "code",
   "execution_count": null,
   "metadata": {},
   "outputs": [],
   "source": [
    "unique_values_regional_code = combined_df[\"Regional_Code\"].value_counts()\n",
    "unique_values_regional_code\n",
    "\n",
    "# Increase the size of the figure\n",
    "plt.figure(figsize=(15, 6))  # Adjust the figure size (width, height)\n",
    "\n",
    "unique_values_regional_code.plot(kind=\"bar\")\n",
    "\n",
    "\n",
    "plt.xlabel('Regional Code')\n",
    "plt.ylabel('Count')\n",
    "plt.title('Count of different customer regional codes')\n",
    "\n",
    "# Display the plot\n",
    "plt.show()"
   ]
  },
  {
   "cell_type": "code",
   "execution_count": null,
   "metadata": {},
   "outputs": [],
   "source": [
    "unique_values_pre_insurance = combined_df[\"Vorversicherung\"].value_counts()\n",
    "unique_values_pre_insurance"
   ]
  },
  {
   "cell_type": "code",
   "execution_count": null,
   "metadata": {},
   "outputs": [],
   "source": [
    "unique_values_age_car = combined_df[\"Alter_Fzg\"].value_counts()\n",
    "unique_values_age_car"
   ]
  },
  {
   "cell_type": "code",
   "execution_count": null,
   "metadata": {},
   "outputs": [],
   "source": [
    "unique_values_pre_damage = combined_df[\"Vorschaden\"].value_counts()\n",
    "unique_values_pre_damage"
   ]
  },
  {
   "cell_type": "code",
   "execution_count": null,
   "metadata": {},
   "outputs": [],
   "source": [
    "unique_values_yearly_subscription_price = combined_df[\"Jahresbeitrag\"].value_counts()\n",
    "unique_values_yearly_subscription_price\n"
   ]
  },
  {
   "cell_type": "code",
   "execution_count": null,
   "metadata": {},
   "outputs": [],
   "source": [
    "import seaborn as sns\n",
    "sns.boxplot(x=combined_df['Jahresbeitrag'])"
   ]
  },
  {
   "cell_type": "code",
   "execution_count": null,
   "metadata": {},
   "outputs": [],
   "source": [
    "unique_values_sales_channel = combined_df[\"Vertriebskanal\"].value_counts()\n",
    "unique_values_sales_channel.iloc[:30]"
   ]
  },
  {
   "cell_type": "code",
   "execution_count": null,
   "metadata": {},
   "outputs": [],
   "source": [
    "sns.boxplot(x=combined_df['Vertriebskanal'])"
   ]
  },
  {
   "cell_type": "code",
   "execution_count": null,
   "metadata": {},
   "outputs": [],
   "source": [
    "unique_values_customer_loyalty = combined_df[\"Kundentreue\"].value_counts()\n",
    "unique_values_customer_loyalty"
   ]
  },
  {
   "cell_type": "code",
   "execution_count": null,
   "metadata": {},
   "outputs": [],
   "source": [
    "sns.boxplot(x=combined_df['Kundentreue'])"
   ]
  },
  {
   "cell_type": "code",
   "execution_count": null,
   "metadata": {},
   "outputs": [],
   "source": [
    "combined_df['Kundentreue'].mean()"
   ]
  },
  {
   "cell_type": "code",
   "execution_count": null,
   "metadata": {},
   "outputs": [],
   "source": [
    "unique_values_interest = combined_df[\"Interesse\"].value_counts()\n",
    "unique_values_interest"
   ]
  }
 ],
 "metadata": {
  "kernelspec": {
   "display_name": "huk-technical-challenge-C9Phmb4o-py3.13",
   "language": "python",
   "name": "python3"
  },
  "language_info": {
   "codemirror_mode": {
    "name": "ipython",
    "version": 3
   },
   "file_extension": ".py",
   "mimetype": "text/x-python",
   "name": "python",
   "nbconvert_exporter": "python",
   "pygments_lexer": "ipython3",
   "version": "3.10.15"
  }
 },
 "nbformat": 4,
 "nbformat_minor": 2
}
